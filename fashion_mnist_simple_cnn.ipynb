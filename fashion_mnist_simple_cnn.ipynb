{
 "cells": [
  {
   "cell_type": "code",
   "execution_count": 3,
   "metadata": {},
   "outputs": [],
   "source": [
    "# load the dataset from the folder in here\n",
    "### check\n",
    "\n",
    "import os\n",
    "notebook_train_path = os.path.abspath(\"fashion_mnist/fashion-mnist_train.csv\")\n",
    "notebook_test_path = os.path.abspath(\"fashion_mnist/fashion-mnist_test.csv\")\n",
    "\n",
    "# shuffle the dataset and all that\n",
    "### check\n",
    "\n",
    "# create a simple cnn\n",
    "### check\n",
    "\n",
    "#####\n",
    "# good guide: https://www.kaggle.com/gpreda/cnn-with-tensorflow-keras-for-fashion-mnist\n"
   ]
  },
  {
   "cell_type": "code",
   "execution_count": 4,
   "metadata": {},
   "outputs": [],
   "source": [
    "import pandas\n",
    "\n",
    "train_dataset = pandas.read_csv(notebook_train_path)\n",
    "test_dataset = pandas.read_csv(notebook_test_path)\n",
    "\n",
    "# shuffle the data\n",
    "#train_dataset = train_dataset.sample(frac=1) # frac = 1 means it returns all rows\n",
    "#test_dataset = test_dataset.sample(frac=1)"
   ]
  },
  {
   "cell_type": "code",
   "execution_count": 4,
   "metadata": {},
   "outputs": [],
   "source": [
    "# need to change the shape of the data to 28x28x1"
   ]
  },
  {
   "cell_type": "code",
   "execution_count": 10,
   "metadata": {},
   "outputs": [],
   "source": [
    "# create a simple cnn\n",
    "\n",
    "import tensorflow as tf\n",
    "#from tensorflow.keras.optimizers import RMSprop\n",
    "import keras\n",
    "\n",
    "model = tf.keras.models.Sequential([\n",
    "  tf.keras.layers.Conv2D(16, (3,3), activation='relu', input_shape=(28, 28, 1)),\n",
    "  tf.keras.layers.MaxPooling2D(2,2),\n",
    "  tf.keras.layers.Conv2D(32, (3,3), activation='relu'),\n",
    "  tf.keras.layers.MaxPooling2D(2,2), \n",
    "  tf.keras.layers.Conv2D(64, (3,3), activation='relu'), \n",
    "  tf.keras.layers.MaxPooling2D(2,2), # this condenses the image to a single pixel.\n",
    "    # adding more layers either wouldn't do anything or would result in an error\n",
    "  # Flatten the results to feed into a DNN\n",
    "  tf.keras.layers.Flatten(), \n",
    "  # the amount of neurons can be anything? originally 512, where is that number from?\n",
    "    # cause it's 2^9\n",
    "    # try 100\n",
    "    # works! same accuracy after 10 epochs\n",
    "  tf.keras.layers.Dense(100, activation='relu'),\n",
    "  # Only 1 output neuron. It will contain a value from 0-1 where 0 for 1 class ('cats') and 1 for the other ('dogs')\n",
    "  tf.keras.layers.Dense(10, activation='softmax') # here, 10 is the number of classes. the\n",
    "    # last layer specifies the number of classes.\n",
    "])\n",
    "\n",
    "# because the image is condensed so quickly, you can increase the amount of filters\n",
    "# rather than the number of layers for improved accuracy\n"
   ]
  },
  {
   "cell_type": "code",
   "execution_count": 11,
   "metadata": {},
   "outputs": [],
   "source": [
    "model.compile(loss=\"categorical_crossentropy\",\n",
    "              optimizer='adam',\n",
    "              metrics=['accuracy'])"
   ]
  },
  {
   "cell_type": "code",
   "execution_count": 12,
   "metadata": {},
   "outputs": [
    {
     "name": "stdout",
     "output_type": "stream",
     "text": [
      "   label  pixel1  pixel2  pixel3  pixel4  pixel5  pixel6  pixel7  pixel8  \\\n",
      "0      2       0       0       0       0       0       0       0       0   \n",
      "1      9       0       0       0       0       0       0       0       0   \n",
      "2      6       0       0       0       0       0       0       0       5   \n",
      "3      0       0       0       0       1       2       0       0       0   \n",
      "4      3       0       0       0       0       0       0       0       0   \n",
      "\n",
      "   pixel9  ...  pixel775  pixel776  pixel777  pixel778  pixel779  pixel780  \\\n",
      "0       0  ...         0         0         0         0         0         0   \n",
      "1       0  ...         0         0         0         0         0         0   \n",
      "2       0  ...         0         0         0        30        43         0   \n",
      "3       0  ...         3         0         0         0         0         1   \n",
      "4       0  ...         0         0         0         0         0         0   \n",
      "\n",
      "   pixel781  pixel782  pixel783  pixel784  \n",
      "0         0         0         0         0  \n",
      "1         0         0         0         0  \n",
      "2         0         0         0         0  \n",
      "3         0         0         0         0  \n",
      "4         0         0         0         0  \n",
      "\n",
      "[5 rows x 785 columns]\n"
     ]
    }
   ],
   "source": [
    "# data exploration\n",
    "\n",
    "print(train_dataset.head())\n",
    "\n",
    "# Create a dictionary for each type of label \n",
    "labels = {0 : \"T-shirt/top\", 1: \"Trouser\", 2: \"Pullover\", 3: \"Dress\", 4: \"Coat\",\n",
    "          5: \"Sandal\", 6: \"Shirt\", 7: \"Sneaker\", 8: \"Bag\", 9: \"Ankle Boot\"}\n"
   ]
  },
  {
   "cell_type": "code",
   "execution_count": 13,
   "metadata": {},
   "outputs": [
    {
     "name": "stdout",
     "output_type": "stream",
     "text": [
      "X_train shape:  (60000, 28, 28, 1)\n",
      "y_train shape:  (60000, 10)\n",
      "X_test shape:  (10000, 28, 28, 1)\n",
      "y_test shape:  (10000, 10)\n"
     ]
    }
   ],
   "source": [
    "# need to normalize the values\n",
    "# need to convert to tensors\n",
    "# define the label column as target\n",
    "\n",
    "# convert the train_dataset to X_train and y_train\n",
    "\n",
    "# data preprocessing\n",
    "def data_preprocessing(raw):\n",
    "    out_y = tf.keras.utils.to_categorical(raw.label) \n",
    "    # the label column is now categorical\n",
    "    # i.e. the target column\n",
    "    # 10 is the amount of categories. let's say the # will be inferred\n",
    "    x_as_array = raw.values[:,1:] # everything but the label col\n",
    "    x_shaped_array = x_as_array.reshape(raw.shape[0], 28, 28, 1) # reshaping to tensors\n",
    "    out_x = x_shaped_array / 255 # normalize the values\n",
    "    return out_x, out_y\n",
    "\n",
    "X_train, y_train = data_preprocessing(train_dataset)\n",
    "X_test, y_test = data_preprocessing(test_dataset)\n",
    "\n",
    "print(\"X_train shape: \", X_train.shape)\n",
    "print(\"y_train shape: \", y_train.shape)\n",
    "print(\"X_test shape: \", X_test.shape)\n",
    "print(\"y_test shape: \", y_test.shape)"
   ]
  },
  {
   "cell_type": "code",
   "execution_count": 14,
   "metadata": {},
   "outputs": [],
   "source": [
    "#import sklearn\n",
    "from sklearn.model_selection import train_test_split\n",
    "\n",
    "X_train, X_val, y_train, y_val = train_test_split(X_train, \n",
    "                                                  y_train, test_size = 0.3)\n",
    "\n",
    "#print(X_train[0,0])\n",
    "\n",
    "##### write a function that splits the dataset into train_test. or use another function\n",
    "# or investigate wtf is happening here\n",
    "\n",
    "# tried updating scipy. apparently, i might have 2 scipy versions installed and\n",
    "# that's why i'm getting this dumbass error. so i'd need to uninstall both scipy's\n",
    "# and install one version again. or smth. that might work\n",
    "\n",
    "\n",
    "# orrrrrr. i can shuffle rows with a random seed. \n",
    "# and grab the first 70% of the data and let that be the training dataset"
   ]
  },
  {
   "cell_type": "code",
   "execution_count": 15,
   "metadata": {},
   "outputs": [
    {
     "name": "stdout",
     "output_type": "stream",
     "text": [
      "Model: \"sequential\"\n",
      "_________________________________________________________________\n",
      "Layer (type)                 Output Shape              Param #   \n",
      "=================================================================\n",
      "conv2d (Conv2D)              (None, 26, 26, 16)        160       \n",
      "_________________________________________________________________\n",
      "max_pooling2d (MaxPooling2D) (None, 13, 13, 16)        0         \n",
      "_________________________________________________________________\n",
      "conv2d_1 (Conv2D)            (None, 11, 11, 32)        4640      \n",
      "_________________________________________________________________\n",
      "max_pooling2d_1 (MaxPooling2 (None, 5, 5, 32)          0         \n",
      "_________________________________________________________________\n",
      "conv2d_2 (Conv2D)            (None, 3, 3, 64)          18496     \n",
      "_________________________________________________________________\n",
      "max_pooling2d_2 (MaxPooling2 (None, 1, 1, 64)          0         \n",
      "_________________________________________________________________\n",
      "flatten (Flatten)            (None, 64)                0         \n",
      "_________________________________________________________________\n",
      "dense (Dense)                (None, 100)               6500      \n",
      "_________________________________________________________________\n",
      "dense_1 (Dense)              (None, 10)                1010      \n",
      "=================================================================\n",
      "Total params: 30,806\n",
      "Trainable params: 30,806\n",
      "Non-trainable params: 0\n",
      "_________________________________________________________________\n"
     ]
    }
   ],
   "source": [
    "model.summary()"
   ]
  },
  {
   "cell_type": "code",
   "execution_count": 28,
   "metadata": {},
   "outputs": [
    {
     "name": "stdout",
     "output_type": "stream",
     "text": [
      "(42000, 28, 28, 1)\n",
      "(18000, 28, 28, 1)\n"
     ]
    }
   ],
   "source": [
    "print(X_train.shape)\n",
    "print(X_val.shape)"
   ]
  },
  {
   "cell_type": "code",
   "execution_count": 16,
   "metadata": {},
   "outputs": [
    {
     "name": "stdout",
     "output_type": "stream",
     "text": [
      "Epoch 1/10\n",
      "329/329 [==============================] - 10s 29ms/step - loss: 0.8447 - accuracy: 0.6918 - val_loss: 0.6044 - val_accuracy: 0.7803\n",
      "Epoch 2/10\n",
      "329/329 [==============================] - 9s 28ms/step - loss: 0.5622 - accuracy: 0.7917 - val_loss: 0.5408 - val_accuracy: 0.8074\n",
      "Epoch 3/10\n",
      "329/329 [==============================] - 10s 29ms/step - loss: 0.4996 - accuracy: 0.8181 - val_loss: 0.4936 - val_accuracy: 0.8131\n",
      "Epoch 4/10\n",
      "329/329 [==============================] - 10s 30ms/step - loss: 0.4566 - accuracy: 0.8357 - val_loss: 0.4601 - val_accuracy: 0.8356\n",
      "Epoch 5/10\n",
      "329/329 [==============================] - 9s 27ms/step - loss: 0.4250 - accuracy: 0.8453 - val_loss: 0.4326 - val_accuracy: 0.8452\n",
      "Epoch 6/10\n",
      "329/329 [==============================] - 8s 25ms/step - loss: 0.4011 - accuracy: 0.8534 - val_loss: 0.4307 - val_accuracy: 0.8444\n",
      "Epoch 7/10\n",
      "329/329 [==============================] - 9s 28ms/step - loss: 0.3802 - accuracy: 0.8614 - val_loss: 0.4154 - val_accuracy: 0.8489\n",
      "Epoch 8/10\n",
      "329/329 [==============================] - 9s 27ms/step - loss: 0.3640 - accuracy: 0.8678 - val_loss: 0.3829 - val_accuracy: 0.8627\n",
      "Epoch 9/10\n",
      "329/329 [==============================] - 8s 25ms/step - loss: 0.3538 - accuracy: 0.8719 - val_loss: 0.3727 - val_accuracy: 0.8648\n",
      "Epoch 10/10\n",
      "329/329 [==============================] - 8s 24ms/step - loss: 0.3410 - accuracy: 0.8758 - val_loss: 0.3766 - val_accuracy: 0.8657\n"
     ]
    }
   ],
   "source": [
    "# create the x_val and y_val first!!!!!\n",
    "\n",
    "N_EPOCHS = 10\n",
    "BATCH_SIZE = 128\n",
    "train_model = model.fit(X_train, y_train,\n",
    "                  batch_size=BATCH_SIZE,\n",
    "                  epochs=N_EPOCHS,\n",
    "                  verbose=1,\n",
    "                  validation_data=(X_val, y_val))"
   ]
  },
  {
   "cell_type": "code",
   "execution_count": 48,
   "metadata": {},
   "outputs": [],
   "source": [
    "# here's a slightly diff cnn with more filters and a smaller dense layer\n",
    "# and what's with the powers of 2 for the amount of filters. let's try some normal numbers\n",
    "# maybe you do that because of the way the information is computed? like it's all\n",
    "# binary, so this makes the computation faster somehow?\n",
    "\n",
    "# nah, it's just a convention\n",
    "\n",
    "model_two = tf.keras.models.Sequential([\n",
    "  tf.keras.layers.Conv2D(30, (3,3), activation='relu', input_shape=(28, 28, 1)),\n",
    "  tf.keras.layers.MaxPooling2D(2,2),\n",
    "  tf.keras.layers.Conv2D(60, (3,3), activation='relu'),\n",
    "  tf.keras.layers.MaxPooling2D(2,2), \n",
    "  tf.keras.layers.Conv2D(120, (3,3), activation='relu'), \n",
    "  tf.keras.layers.MaxPooling2D(2,2),\n",
    "  tf.keras.layers.Flatten(), \n",
    "  tf.keras.layers.Dense(90, activation='relu'),\n",
    "  tf.keras.layers.Dense(10, activation='softmax')\n",
    "])"
   ]
  },
  {
   "cell_type": "code",
   "execution_count": 49,
   "metadata": {},
   "outputs": [],
   "source": [
    "model_two.compile(loss=\"categorical_crossentropy\",\n",
    "              optimizer='adam',\n",
    "              metrics=['accuracy'])"
   ]
  },
  {
   "cell_type": "code",
   "execution_count": 50,
   "metadata": {
    "scrolled": true
   },
   "outputs": [
    {
     "name": "stdout",
     "output_type": "stream",
     "text": [
      "Model: \"sequential_6\"\n",
      "_________________________________________________________________\n",
      "Layer (type)                 Output Shape              Param #   \n",
      "=================================================================\n",
      "conv2d_18 (Conv2D)           (None, 26, 26, 30)        300       \n",
      "_________________________________________________________________\n",
      "max_pooling2d_18 (MaxPooling (None, 13, 13, 30)        0         \n",
      "_________________________________________________________________\n",
      "conv2d_19 (Conv2D)           (None, 11, 11, 60)        16260     \n",
      "_________________________________________________________________\n",
      "max_pooling2d_19 (MaxPooling (None, 5, 5, 60)          0         \n",
      "_________________________________________________________________\n",
      "conv2d_20 (Conv2D)           (None, 3, 3, 120)         64920     \n",
      "_________________________________________________________________\n",
      "max_pooling2d_20 (MaxPooling (None, 1, 1, 120)         0         \n",
      "_________________________________________________________________\n",
      "flatten_6 (Flatten)          (None, 120)               0         \n",
      "_________________________________________________________________\n",
      "dense_12 (Dense)             (None, 90)                10890     \n",
      "_________________________________________________________________\n",
      "dense_13 (Dense)             (None, 10)                910       \n",
      "=================================================================\n",
      "Total params: 93,280\n",
      "Trainable params: 93,280\n",
      "Non-trainable params: 0\n",
      "_________________________________________________________________\n"
     ]
    }
   ],
   "source": [
    "model_two.summary()"
   ]
  },
  {
   "cell_type": "code",
   "execution_count": 51,
   "metadata": {},
   "outputs": [
    {
     "name": "stdout",
     "output_type": "stream",
     "text": [
      "Train on 42000 samples, validate on 18000 samples\n",
      "Epoch 1/10\n",
      "42000/42000 [==============================] - 17s 402us/sample - loss: 0.7604 - accuracy: 0.7247 - val_loss: 0.5405 - val_accuracy: 0.8022\n",
      "Epoch 2/10\n",
      "42000/42000 [==============================] - 18s 423us/sample - loss: 0.4908 - accuracy: 0.8222 - val_loss: 0.4468 - val_accuracy: 0.8379\n",
      "Epoch 3/10\n",
      "42000/42000 [==============================] - 18s 423us/sample - loss: 0.4321 - accuracy: 0.8436 - val_loss: 0.4165 - val_accuracy: 0.8504\n",
      "Epoch 4/10\n",
      "42000/42000 [==============================] - 17s 402us/sample - loss: 0.3887 - accuracy: 0.8601 - val_loss: 0.3861 - val_accuracy: 0.8603\n",
      "Epoch 5/10\n",
      "42000/42000 [==============================] - 17s 399us/sample - loss: 0.3628 - accuracy: 0.8662 - val_loss: 0.3744 - val_accuracy: 0.8647\n",
      "Epoch 6/10\n",
      "42000/42000 [==============================] - 18s 440us/sample - loss: 0.3411 - accuracy: 0.8770 - val_loss: 0.3602 - val_accuracy: 0.8718\n",
      "Epoch 7/10\n",
      "42000/42000 [==============================] - 20s 474us/sample - loss: 0.3201 - accuracy: 0.8834 - val_loss: 0.3464 - val_accuracy: 0.8733\n",
      "Epoch 8/10\n",
      "42000/42000 [==============================] - 19s 459us/sample - loss: 0.3053 - accuracy: 0.8889 - val_loss: 0.3479 - val_accuracy: 0.8741\n",
      "Epoch 9/10\n",
      "42000/42000 [==============================] - 27s 636us/sample - loss: 0.2868 - accuracy: 0.8949 - val_loss: 0.3411 - val_accuracy: 0.8757\n",
      "Epoch 10/10\n",
      "42000/42000 [==============================] - 19s 462us/sample - loss: 0.2752 - accuracy: 0.8989 - val_loss: 0.3219 - val_accuracy: 0.8817\n"
     ]
    }
   ],
   "source": [
    "train_model_two = model_two.fit(X_train, y_train,\n",
    "                  batch_size=BATCH_SIZE,\n",
    "                  epochs=N_EPOCHS,\n",
    "                  verbose=1,\n",
    "                  validation_data=(X_val, y_val))"
   ]
  },
  {
   "cell_type": "code",
   "execution_count": 60,
   "metadata": {},
   "outputs": [
    {
     "name": "stdout",
     "output_type": "stream",
     "text": [
      "Test loss: 0.30791886209249497\n",
      "Test accuracy: 0.8895\n"
     ]
    }
   ],
   "source": [
    "score = model_two.evaluate(X_test, y_test, verbose=0)\n",
    "print('Test loss:', score[0])\n",
    "print('Test accuracy:', score[1])"
   ]
  },
  {
   "cell_type": "code",
   "execution_count": 67,
   "metadata": {},
   "outputs": [
    {
     "name": "stdout",
     "output_type": "stream",
     "text": [
      "dict_keys(['loss', 'accuracy', 'val_loss', 'val_accuracy'])\n"
     ]
    }
   ],
   "source": [
    "x = model_two.history.history\n",
    "# https://stackoverflow.com/questions/51731207/python-neural-network-typeerror-history-object-is-not-subscriptable\n",
    "print(x.keys())"
   ]
  },
  {
   "cell_type": "code",
   "execution_count": 23,
   "metadata": {},
   "outputs": [
    {
     "data": {
      "image/png": "[encoded data removed]",
      "text/plain": [
       "<Figure size 432x288 with 1 Axes>"
      ]
     },
     "metadata": {
      "needs_background": "light"
     },
     "output_type": "display_data"
    },
    {
     "data": {
      "image/png": "[encoded data removed]",
      "text/plain": [
       "<Figure size 432x288 with 1 Axes>"
      ]
     },
     "metadata": {
      "needs_background": "light"
     },
     "output_type": "display_data"
    }
   ],
   "source": [
    "%matplotlib inline\n",
    "\n",
    "import matplotlib.image  as mpimg\n",
    "import matplotlib.pyplot as plt\n",
    "\n",
    "#-----------------------------------------------------------\n",
    "# Retrieve a list of list results on training and test data\n",
    "# sets for each training epoch\n",
    "#-----------------------------------------------------------\n",
    "def plot_accuracy_and_loss(train_model):\n",
    "    hist = train_model.history.history\n",
    "    acc = hist['accuracy']\n",
    "    val_acc = hist['val_accuracy']\n",
    "    loss = hist['loss']\n",
    "    val_loss = hist['val_loss']\n",
    "\n",
    "    epochs = range(len(acc)) # Get number of epochs\n",
    "\n",
    "    #------------------------------------------------\n",
    "    # Plot training and validation accuracy per epoch\n",
    "    #------------------------------------------------\n",
    "    plt.plot(epochs, acc, 'r', \"Training Accuracy\")\n",
    "    plt.plot(epochs, val_acc, 'b', \"Validation Accuracy\")\n",
    "    plt.title('Training and validation accuracy')\n",
    "    plt.figure()\n",
    "\n",
    "    #------------------------------------------------\n",
    "    # Plot training and validation loss per epoch\n",
    "    #------------------------------------------------\n",
    "    plt.plot(epochs, loss, 'r', \"Training Loss\")\n",
    "    plt.plot(epochs, val_loss, 'b', \"Validation Loss\")\n",
    "\n",
    "\n",
    "    plt.title('Training and validation loss')\n",
    "    \n",
    "plot_accuracy_and_loss(model)"
   ]
  },
  {
   "cell_type": "code",
   "execution_count": 69,
   "metadata": {},
   "outputs": [
    {
     "data": {
      "image/png": "[encoded data removed]",
      "text/plain": [
       "<Figure size 432x288 with 1 Axes>"
      ]
     },
     "metadata": {},
     "output_type": "display_data"
    },
    {
     "data": {
      "image/png": "[encoded data removed]",
      "text/plain": [
       "<Figure size 432x288 with 1 Axes>"
      ]
     },
     "metadata": {},
     "output_type": "display_data"
    }
   ],
   "source": [
    "plot_accuracy_and_loss(model)"
   ]
  },
  {
   "cell_type": "code",
   "execution_count": null,
   "metadata": {},
   "outputs": [],
   "source": [
    "# looks like underfitting. and i also know that it could be learning faster"
   ]
  },
  {
   "cell_type": "code",
   "execution_count": 18,
   "metadata": {},
   "outputs": [
    {
     "name": "stdout",
     "output_type": "stream",
     "text": [
      "Epoch 1/10\n",
      "329/329 [==============================] - 20s 60ms/step - loss: 0.7853 - accuracy: 0.7175 - val_loss: 0.5652 - val_accuracy: 0.7888\n",
      "Epoch 2/10\n",
      "329/329 [==============================] - 19s 57ms/step - loss: 0.5121 - accuracy: 0.8147 - val_loss: 0.4578 - val_accuracy: 0.8378\n",
      "Epoch 3/10\n",
      "329/329 [==============================] - 19s 58ms/step - loss: 0.4375 - accuracy: 0.8421 - val_loss: 0.4428 - val_accuracy: 0.8391\n",
      "Epoch 4/10\n",
      "329/329 [==============================] - 18s 56ms/step - loss: 0.3982 - accuracy: 0.8556 - val_loss: 0.4018 - val_accuracy: 0.8524\n",
      "Epoch 5/10\n",
      "329/329 [==============================] - 17s 51ms/step - loss: 0.3707 - accuracy: 0.8646 - val_loss: 0.3914 - val_accuracy: 0.8527\n",
      "Epoch 6/10\n",
      "329/329 [==============================] - 16s 49ms/step - loss: 0.3455 - accuracy: 0.8753 - val_loss: 0.3629 - val_accuracy: 0.8673\n",
      "Epoch 7/10\n",
      "329/329 [==============================] - 15s 45ms/step - loss: 0.3245 - accuracy: 0.8818 - val_loss: 0.3716 - val_accuracy: 0.8622\n",
      "Epoch 8/10\n",
      "329/329 [==============================] - 15s 45ms/step - loss: 0.3117 - accuracy: 0.8844 - val_loss: 0.3354 - val_accuracy: 0.8788\n",
      "Epoch 9/10\n",
      "329/329 [==============================] - 15s 46ms/step - loss: 0.2903 - accuracy: 0.8922 - val_loss: 0.3431 - val_accuracy: 0.8767\n",
      "Epoch 10/10\n",
      "329/329 [==============================] - 15s 46ms/step - loss: 0.2772 - accuracy: 0.8995 - val_loss: 0.3328 - val_accuracy: 0.8801\n"
     ]
    }
   ],
   "source": [
    "model_three = tf.keras.models.Sequential([\n",
    "  tf.keras.layers.Conv2D(30, (3,3), activation='relu', input_shape=(28, 28, 1)),\n",
    "  tf.keras.layers.MaxPooling2D(2,2),\n",
    "  tf.keras.layers.Conv2D(60, (3,3), activation='relu'),\n",
    "  tf.keras.layers.MaxPooling2D(2,2), \n",
    "  tf.keras.layers.Conv2D(120, (3,3), activation='relu'), \n",
    "  tf.keras.layers.MaxPooling2D(2,2),\n",
    "  tf.keras.layers.Flatten(), \n",
    "  tf.keras.layers.Dense(150, activation='relu'),\n",
    "  tf.keras.layers.Dense(10, activation='softmax')\n",
    "])\n",
    "model_three.compile(loss=\"categorical_crossentropy\",\n",
    "              optimizer='adam',\n",
    "              metrics=['accuracy'])\n",
    "\n",
    "train_model_three = model_three.fit(X_train, y_train,\n",
    "                  batch_size=BATCH_SIZE,\n",
    "                  epochs=N_EPOCHS,\n",
    "                  verbose=1,\n",
    "                  validation_data=(X_val, y_val))"
   ]
  },
  {
   "cell_type": "code",
   "execution_count": 29,
   "metadata": {},
   "outputs": [
    {
     "name": "stdout",
     "output_type": "stream",
     "text": [
      "Test loss: 0.31792327761650085\n",
      "Test accuracy: 0.8863000273704529\n"
     ]
    },
    {
     "ename": "KeyError",
     "evalue": "'accuracy'",
     "output_type": "error",
     "traceback": [
      "\u001b[0;31m---------------------------------------------------------------------------\u001b[0m",
      "\u001b[0;31mKeyError\u001b[0m                                  Traceback (most recent call last)",
      "\u001b[0;32m<ipython-input-29-63c6b169be73>\u001b[0m in \u001b[0;36m<module>\u001b[0;34m\u001b[0m\n\u001b[1;32m      2\u001b[0m \u001b[0mprint\u001b[0m\u001b[0;34m(\u001b[0m\u001b[0;34m'Test loss:'\u001b[0m\u001b[0;34m,\u001b[0m \u001b[0mscore\u001b[0m\u001b[0;34m[\u001b[0m\u001b[0;36m0\u001b[0m\u001b[0;34m]\u001b[0m\u001b[0;34m)\u001b[0m\u001b[0;34m\u001b[0m\u001b[0m\n\u001b[1;32m      3\u001b[0m \u001b[0mprint\u001b[0m\u001b[0;34m(\u001b[0m\u001b[0;34m'Test accuracy:'\u001b[0m\u001b[0;34m,\u001b[0m \u001b[0mscore\u001b[0m\u001b[0;34m[\u001b[0m\u001b[0;36m1\u001b[0m\u001b[0;34m]\u001b[0m\u001b[0;34m)\u001b[0m\u001b[0;34m\u001b[0m\u001b[0m\n\u001b[0;32m----> 4\u001b[0;31m \u001b[0mplot_accuracy_and_loss\u001b[0m\u001b[0;34m(\u001b[0m\u001b[0mmodel_three\u001b[0m\u001b[0;34m)\u001b[0m\u001b[0;34m\u001b[0m\u001b[0m\n\u001b[0m",
      "\u001b[0;32m<ipython-input-23-3a6abbfeb8b9>\u001b[0m in \u001b[0;36mplot_accuracy_and_loss\u001b[0;34m(train_model)\u001b[0m\n\u001b[1;32m     10\u001b[0m \u001b[0;32mdef\u001b[0m \u001b[0mplot_accuracy_and_loss\u001b[0m\u001b[0;34m(\u001b[0m\u001b[0mtrain_model\u001b[0m\u001b[0;34m)\u001b[0m\u001b[0;34m:\u001b[0m\u001b[0;34m\u001b[0m\u001b[0m\n\u001b[1;32m     11\u001b[0m     \u001b[0mhist\u001b[0m \u001b[0;34m=\u001b[0m \u001b[0mtrain_model\u001b[0m\u001b[0;34m.\u001b[0m\u001b[0mhistory\u001b[0m\u001b[0;34m.\u001b[0m\u001b[0mhistory\u001b[0m\u001b[0;34m\u001b[0m\u001b[0m\n\u001b[0;32m---> 12\u001b[0;31m     \u001b[0macc\u001b[0m \u001b[0;34m=\u001b[0m \u001b[0mhist\u001b[0m\u001b[0;34m[\u001b[0m\u001b[0;34m'accuracy'\u001b[0m\u001b[0;34m]\u001b[0m\u001b[0;34m\u001b[0m\u001b[0m\n\u001b[0m\u001b[1;32m     13\u001b[0m     \u001b[0mval_acc\u001b[0m \u001b[0;34m=\u001b[0m \u001b[0mhist\u001b[0m\u001b[0;34m[\u001b[0m\u001b[0;34m'val_accuracy'\u001b[0m\u001b[0;34m]\u001b[0m\u001b[0;34m\u001b[0m\u001b[0m\n\u001b[1;32m     14\u001b[0m     \u001b[0mloss\u001b[0m \u001b[0;34m=\u001b[0m \u001b[0mhist\u001b[0m\u001b[0;34m[\u001b[0m\u001b[0;34m'loss'\u001b[0m\u001b[0;34m]\u001b[0m\u001b[0;34m\u001b[0m\u001b[0m\n",
      "\u001b[0;31mKeyError\u001b[0m: 'accuracy'"
     ]
    }
   ],
   "source": [
    "score_three = model_three.evaluate(X_test, y_test, verbose=0)\n",
    "print('Test loss:', score[0])\n",
    "print('Test accuracy:', score[1])\n",
    "plot_accuracy_and_loss(model_three)"
   ]
  },
  {
   "cell_type": "code",
   "execution_count": null,
   "metadata": {},
   "outputs": [],
   "source": [
    "# k, good enough."
   ]
  },
  {
   "cell_type": "code",
   "execution_count": 43,
   "metadata": {},
   "outputs": [
    {
     "name": "stdout",
     "output_type": "stream",
     "text": [
      "Saved model to disk\n"
     ]
    }
   ],
   "source": [
    "from tensorflow.keras.models import load_model\n",
    "model.save(\"model.h5\")\n",
    "print(\"Saved model to disk\")\n",
    " \n",
    "# load model\n",
    "model_four = load_model('model.h5')"
   ]
  },
  {
   "cell_type": "code",
   "execution_count": 44,
   "metadata": {},
   "outputs": [
    {
     "name": "stdout",
     "output_type": "stream",
     "text": [
      "Test loss: 0.3673039972782135\n",
      "Test accuracy: 0.8676999807357788\n"
     ]
    }
   ],
   "source": [
    "score = model_four.evaluate(X_test, y_test, verbose=0)\n",
    "print('Test loss:', score[0])\n",
    "print('Test accuracy:', score[1])"
   ]
  },
  {
   "cell_type": "code",
   "execution_count": 54,
   "metadata": {},
   "outputs": [
    {
     "name": "stdout",
     "output_type": "stream",
     "text": [
      "This image most likely belongs to Bag with a 23.20 percent confidence.\n"
     ]
    }
   ],
   "source": [
    "from keras.preprocessing import image\n",
    "import keras\n",
    "import numpy as np\n",
    "\n",
    "img_height, img_width = 28, 28\n",
    "class_names = list(labels.values())\n",
    "\n",
    "#sunflower_path = os.path.abspath(\"fruits-360/Test/Cauliflower/9_100.jpg\")\n",
    "sunflower_path = os.path.abspath(\"fashion_mnist/vans_tshirt.jpeg\")\n",
    "\n",
    "#sunflower_url = \"https://storage.googleapis.com/download.tensorflow.org/example_images/592px-Red_sunflower.jpg\"\n",
    "#sunflower_path = tf.keras.utils.get_file('Red_sunflower', origin=sunflower_url)\n",
    "\n",
    "img = keras.preprocessing.image.load_img(\n",
    "    sunflower_path, target_size=(img_height, img_width), color_mode = \"grayscale\"\n",
    ")\n",
    "img.show()\n",
    "img_array = keras.preprocessing.image.img_to_array(img)\n",
    "img_array = tf.expand_dims(img_array, 0) # Create a batch\n",
    "\n",
    "predictions = model_four.predict(img_array)\n",
    "score = tf.nn.softmax(predictions[0])\n",
    "\n",
    "print(\n",
    "    \"This image most likely belongs to {} with a {:.2f} percent confidence.\"\n",
    "    .format(class_names[np.argmax(score)], 100 * np.max(score))\n",
    ")"
   ]
  },
  {
   "cell_type": "code",
   "execution_count": null,
   "metadata": {},
   "outputs": [],
   "source": [
    "#https://machinelearningmastery.com/save-load-keras-deep-learning-models/"
   ]
  },
  {
   "cell_type": "code",
   "execution_count": null,
   "metadata": {},
   "outputs": [],
   "source": []
  }
 ],
 "metadata": {
  "kernelspec": {
   "display_name": "Python 3",
   "language": "python",
   "name": "python3"
  },
  "language_info": {
   "codemirror_mode": {
    "name": "ipython",
    "version": 3
   },
   "file_extension": ".py",
   "mimetype": "text/x-python",
   "name": "python",
   "nbconvert_exporter": "python",
   "pygments_lexer": "ipython3",
   "version": "3.7.0"
  }
 },
 "nbformat": 4,
 "nbformat_minor": 2
}
