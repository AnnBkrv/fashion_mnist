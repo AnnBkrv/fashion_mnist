{
 "cells": [
  {
   "cell_type": "code",
   "execution_count": 9,
   "metadata": {},
   "outputs": [],
   "source": [
    "# load the dataset from the folder in here\n",
    "### check\n",
    "\n",
    "import os\n",
    "notebook_train_path = os.path.abspath(\"2243_9243_bundle_archive/fashion-mnist_train.csv\")\n",
    "notebook_test_path = os.path.abspath(\"2243_9243_bundle_archive/fashion-mnist_test.csv\")\n",
    "\n",
    "# shuffle the dataset and all that\n",
    "### check\n",
    "\n",
    "# create a simple cnn\n",
    "### check\n",
    "\n",
    "#####\n",
    "# good guide: https://www.kaggle.com/gpreda/cnn-with-tensorflow-keras-for-fashion-mnist\n"
   ]
  },
  {
   "cell_type": "code",
   "execution_count": 10,
   "metadata": {},
   "outputs": [],
   "source": [
    "import pandas\n",
    "\n",
    "train_dataset = pandas.read_csv(notebook_train_path)\n",
    "test_dataset = pandas.read_csv(notebook_test_path)\n",
    "\n",
    "# shuffle the data\n",
    "#train_dataset = train_dataset.sample(frac=1) # frac = 1 means it returns all rows\n",
    "#test_dataset = test_dataset.sample(frac=1)"
   ]
  },
  {
   "cell_type": "code",
   "execution_count": 4,
   "metadata": {},
   "outputs": [],
   "source": [
    "# need to change the shape of the data to 28x28x1"
   ]
  },
  {
   "cell_type": "code",
   "execution_count": 42,
   "metadata": {},
   "outputs": [],
   "source": [
    "# create a simple cnn\n",
    "\n",
    "import tensorflow as tf\n",
    "#from tensorflow.keras.optimizers import RMSprop\n",
    "import keras\n",
    "\n",
    "model = tf.keras.models.Sequential([\n",
    "  tf.keras.layers.Conv2D(16, (3,3), activation='relu', input_shape=(28, 28, 1)),\n",
    "  tf.keras.layers.MaxPooling2D(2,2),\n",
    "  tf.keras.layers.Conv2D(32, (3,3), activation='relu'),\n",
    "  tf.keras.layers.MaxPooling2D(2,2), \n",
    "  tf.keras.layers.Conv2D(64, (3,3), activation='relu'), \n",
    "  tf.keras.layers.MaxPooling2D(2,2), # this condenses the image to a single pixel.\n",
    "    # adding more layers either wouldn't do anything or would result in an error\n",
    "  # Flatten the results to feed into a DNN\n",
    "  tf.keras.layers.Flatten(), \n",
    "  # the amount of neurons can be anything? originally 512, where is that number from?\n",
    "    # cause it's 2^9\n",
    "    # try 100\n",
    "    # works! same accuracy after 10 epochs\n",
    "  tf.keras.layers.Dense(100, activation='relu'),\n",
    "  # Only 1 output neuron. It will contain a value from 0-1 where 0 for 1 class ('cats') and 1 for the other ('dogs')\n",
    "  tf.keras.layers.Dense(10, activation='softmax') # here, 10 is the number of classes. the\n",
    "    # last layer specifies the number of classes.\n",
    "])\n",
    "\n",
    "# because the image is condensed so quickly, you can increase the amount of filters\n",
    "# rather than the number of layers for improved accuracy\n"
   ]
  },
  {
   "cell_type": "code",
   "execution_count": 44,
   "metadata": {},
   "outputs": [],
   "source": [
    "model.compile(loss=\"categorical_crossentropy\",\n",
    "              optimizer='adam',\n",
    "              metrics=['accuracy'])"
   ]
  },
  {
   "cell_type": "code",
   "execution_count": 11,
   "metadata": {},
   "outputs": [
    {
     "name": "stdout",
     "output_type": "stream",
     "text": [
      "   label  pixel1  pixel2  pixel3  pixel4  pixel5  pixel6  pixel7  pixel8  \\\n",
      "0      2       0       0       0       0       0       0       0       0   \n",
      "1      9       0       0       0       0       0       0       0       0   \n",
      "2      6       0       0       0       0       0       0       0       5   \n",
      "3      0       0       0       0       1       2       0       0       0   \n",
      "4      3       0       0       0       0       0       0       0       0   \n",
      "\n",
      "   pixel9    ...     pixel775  pixel776  pixel777  pixel778  pixel779  \\\n",
      "0       0    ...            0         0         0         0         0   \n",
      "1       0    ...            0         0         0         0         0   \n",
      "2       0    ...            0         0         0        30        43   \n",
      "3       0    ...            3         0         0         0         0   \n",
      "4       0    ...            0         0         0         0         0   \n",
      "\n",
      "   pixel780  pixel781  pixel782  pixel783  pixel784  \n",
      "0         0         0         0         0         0  \n",
      "1         0         0         0         0         0  \n",
      "2         0         0         0         0         0  \n",
      "3         1         0         0         0         0  \n",
      "4         0         0         0         0         0  \n",
      "\n",
      "[5 rows x 785 columns]\n"
     ]
    }
   ],
   "source": [
    "# data exploration\n",
    "\n",
    "print(train_dataset.head())\n",
    "\n",
    "# Create a dictionary for each type of label \n",
    "labels = {0 : \"T-shirt/top\", 1: \"Trouser\", 2: \"Pullover\", 3: \"Dress\", 4: \"Coat\",\n",
    "          5: \"Sandal\", 6: \"Shirt\", 7: \"Sneaker\", 8: \"Bag\", 9: \"Ankle Boot\"}\n"
   ]
  },
  {
   "cell_type": "code",
   "execution_count": 26,
   "metadata": {},
   "outputs": [
    {
     "name": "stdout",
     "output_type": "stream",
     "text": [
      "X_train shape:  (60000, 28, 28, 1)\n",
      "y_train shape:  (60000, 10)\n",
      "X_test shape:  (10000, 28, 28, 1)\n",
      "y_test shape:  (10000, 10)\n"
     ]
    }
   ],
   "source": [
    "# need to normalize the values\n",
    "# need to convert to tensors\n",
    "# define the label column as target\n",
    "\n",
    "# convert the train_dataset to X_train and y_train\n",
    "\n",
    "# data preprocessing\n",
    "def data_preprocessing(raw):\n",
    "    out_y = keras.utils.to_categorical(raw.label) \n",
    "    # the label column is now categorical\n",
    "    # i.e. the target column\n",
    "    # 10 is the amount of categories. let's say the # will be inferred\n",
    "    x_as_array = raw.values[:,1:] # everything but the label col\n",
    "    x_shaped_array = x_as_array.reshape(raw.shape[0], 28, 28, 1) # reshaping to tensors\n",
    "    out_x = x_shaped_array / 255 # normalize the values\n",
    "    return out_x, out_y\n",
    "\n",
    "X_train, y_train = data_preprocessing(train_dataset)\n",
    "X_test, y_test = data_preprocessing(test_dataset)\n",
    "\n",
    "print(\"X_train shape: \", X_train.shape)\n",
    "print(\"y_train shape: \", y_train.shape)\n",
    "print(\"X_test shape: \", X_test.shape)\n",
    "print(\"y_test shape: \", y_test.shape)"
   ]
  },
  {
   "cell_type": "code",
   "execution_count": 27,
   "metadata": {},
   "outputs": [],
   "source": [
    "#import sklearn\n",
    "from sklearn.model_selection import train_test_split\n",
    "\n",
    "X_train, X_val, y_train, y_val = train_test_split(X_train, \n",
    "                                                  y_train, test_size = 0.3)\n",
    "\n",
    "#print(X_train[0,0])\n",
    "\n",
    "##### write a function that splits the dataset into train_test. or use another function\n",
    "# or investigate wtf is happening here\n",
    "\n",
    "# tried updating scipy. apparently, i might have 2 scipy versions installed and\n",
    "# that's why i'm getting this dumbass error. so i'd need to uninstall both scipy's\n",
    "# and install one version again. or smth. that might work\n",
    "\n",
    "\n",
    "# orrrrrr. i can shuffle rows with a random seed. \n",
    "# and grab the first 70% of the data and let that be the training dataset"
   ]
  },
  {
   "cell_type": "code",
   "execution_count": 46,
   "metadata": {},
   "outputs": [
    {
     "name": "stdout",
     "output_type": "stream",
     "text": [
      "Model: \"sequential_5\"\n",
      "_________________________________________________________________\n",
      "Layer (type)                 Output Shape              Param #   \n",
      "=================================================================\n",
      "conv2d_15 (Conv2D)           (None, 26, 26, 16)        160       \n",
      "_________________________________________________________________\n",
      "max_pooling2d_15 (MaxPooling (None, 13, 13, 16)        0         \n",
      "_________________________________________________________________\n",
      "conv2d_16 (Conv2D)           (None, 11, 11, 32)        4640      \n",
      "_________________________________________________________________\n",
      "max_pooling2d_16 (MaxPooling (None, 5, 5, 32)          0         \n",
      "_________________________________________________________________\n",
      "conv2d_17 (Conv2D)           (None, 3, 3, 64)          18496     \n",
      "_________________________________________________________________\n",
      "max_pooling2d_17 (MaxPooling (None, 1, 1, 64)          0         \n",
      "_________________________________________________________________\n",
      "flatten_5 (Flatten)          (None, 64)                0         \n",
      "_________________________________________________________________\n",
      "dense_10 (Dense)             (None, 100)               6500      \n",
      "_________________________________________________________________\n",
      "dense_11 (Dense)             (None, 10)                1010      \n",
      "=================================================================\n",
      "Total params: 30,806\n",
      "Trainable params: 30,806\n",
      "Non-trainable params: 0\n",
      "_________________________________________________________________\n"
     ]
    }
   ],
   "source": [
    "model.summary()"
   ]
  },
  {
   "cell_type": "code",
   "execution_count": 28,
   "metadata": {},
   "outputs": [
    {
     "name": "stdout",
     "output_type": "stream",
     "text": [
      "(42000, 28, 28, 1)\n",
      "(18000, 28, 28, 1)\n"
     ]
    }
   ],
   "source": [
    "print(X_train.shape)\n",
    "print(X_val.shape)"
   ]
  },
  {
   "cell_type": "code",
   "execution_count": 45,
   "metadata": {},
   "outputs": [
    {
     "name": "stdout",
     "output_type": "stream",
     "text": [
      "Train on 42000 samples, validate on 18000 samples\n",
      "Epoch 1/10\n",
      "42000/42000 [==============================] - 8s 197us/sample - loss: 0.8730 - accuracy: 0.6883 - val_loss: 0.6058 - val_accuracy: 0.7823\n",
      "Epoch 2/10\n",
      "42000/42000 [==============================] - 8s 193us/sample - loss: 0.5747 - accuracy: 0.7891 - val_loss: 0.5531 - val_accuracy: 0.8047\n",
      "Epoch 3/10\n",
      "42000/42000 [==============================] - 8s 202us/sample - loss: 0.5056 - accuracy: 0.8157 - val_loss: 0.4825 - val_accuracy: 0.8251\n",
      "Epoch 4/10\n",
      "42000/42000 [==============================] - 8s 194us/sample - loss: 0.4580 - accuracy: 0.8340 - val_loss: 0.4709 - val_accuracy: 0.8278\n",
      "Epoch 5/10\n",
      "42000/42000 [==============================] - 8s 198us/sample - loss: 0.4291 - accuracy: 0.8448 - val_loss: 0.4426 - val_accuracy: 0.8393\n",
      "Epoch 6/10\n",
      "42000/42000 [==============================] - 9s 212us/sample - loss: 0.4065 - accuracy: 0.8514 - val_loss: 0.4043 - val_accuracy: 0.8538\n",
      "Epoch 7/10\n",
      "42000/42000 [==============================] - 10s 226us/sample - loss: 0.3878 - accuracy: 0.8590 - val_loss: 0.3984 - val_accuracy: 0.8553\n",
      "Epoch 8/10\n",
      "42000/42000 [==============================] - 9s 208us/sample - loss: 0.3730 - accuracy: 0.8618 - val_loss: 0.3911 - val_accuracy: 0.8583\n",
      "Epoch 9/10\n",
      "42000/42000 [==============================] - 10s 236us/sample - loss: 0.3608 - accuracy: 0.8689 - val_loss: 0.3703 - val_accuracy: 0.8674\n",
      "Epoch 10/10\n",
      "42000/42000 [==============================] - 9s 206us/sample - loss: 0.3429 - accuracy: 0.8737 - val_loss: 0.4042 - val_accuracy: 0.8566\n"
     ]
    }
   ],
   "source": [
    "# create the x_val and y_val first!!!!!\n",
    "\n",
    "N_EPOCHS = 10\n",
    "BATCH_SIZE = 128\n",
    "train_model = model.fit(X_train, y_train,\n",
    "                  batch_size=BATCH_SIZE,\n",
    "                  epochs=N_EPOCHS,\n",
    "                  verbose=1,\n",
    "                  validation_data=(X_val, y_val))"
   ]
  },
  {
   "cell_type": "code",
   "execution_count": 48,
   "metadata": {},
   "outputs": [],
   "source": [
    "# here's a slightly diff cnn with more filters and a smaller dense layer\n",
    "# and what's with the powers of 2 for the amount of filters. let's try some normal numbers\n",
    "# maybe you do that because of the way the information is computed? like it's all\n",
    "# binary, so this makes the computation faster somehow?\n",
    "\n",
    "# nah, it's just a convention\n",
    "\n",
    "model_two = tf.keras.models.Sequential([\n",
    "  tf.keras.layers.Conv2D(30, (3,3), activation='relu', input_shape=(28, 28, 1)),\n",
    "  tf.keras.layers.MaxPooling2D(2,2),\n",
    "  tf.keras.layers.Conv2D(60, (3,3), activation='relu'),\n",
    "  tf.keras.layers.MaxPooling2D(2,2), \n",
    "  tf.keras.layers.Conv2D(120, (3,3), activation='relu'), \n",
    "  tf.keras.layers.MaxPooling2D(2,2),\n",
    "  tf.keras.layers.Flatten(), \n",
    "  tf.keras.layers.Dense(90, activation='relu'),\n",
    "  tf.keras.layers.Dense(10, activation='softmax')\n",
    "])"
   ]
  },
  {
   "cell_type": "code",
   "execution_count": 49,
   "metadata": {},
   "outputs": [],
   "source": [
    "model_two.compile(loss=\"categorical_crossentropy\",\n",
    "              optimizer='adam',\n",
    "              metrics=['accuracy'])"
   ]
  },
  {
   "cell_type": "code",
   "execution_count": 50,
   "metadata": {
    "scrolled": true
   },
   "outputs": [
    {
     "name": "stdout",
     "output_type": "stream",
     "text": [
      "Model: \"sequential_6\"\n",
      "_________________________________________________________________\n",
      "Layer (type)                 Output Shape              Param #   \n",
      "=================================================================\n",
      "conv2d_18 (Conv2D)           (None, 26, 26, 30)        300       \n",
      "_________________________________________________________________\n",
      "max_pooling2d_18 (MaxPooling (None, 13, 13, 30)        0         \n",
      "_________________________________________________________________\n",
      "conv2d_19 (Conv2D)           (None, 11, 11, 60)        16260     \n",
      "_________________________________________________________________\n",
      "max_pooling2d_19 (MaxPooling (None, 5, 5, 60)          0         \n",
      "_________________________________________________________________\n",
      "conv2d_20 (Conv2D)           (None, 3, 3, 120)         64920     \n",
      "_________________________________________________________________\n",
      "max_pooling2d_20 (MaxPooling (None, 1, 1, 120)         0         \n",
      "_________________________________________________________________\n",
      "flatten_6 (Flatten)          (None, 120)               0         \n",
      "_________________________________________________________________\n",
      "dense_12 (Dense)             (None, 90)                10890     \n",
      "_________________________________________________________________\n",
      "dense_13 (Dense)             (None, 10)                910       \n",
      "=================================================================\n",
      "Total params: 93,280\n",
      "Trainable params: 93,280\n",
      "Non-trainable params: 0\n",
      "_________________________________________________________________\n"
     ]
    }
   ],
   "source": [
    "model_two.summary()"
   ]
  },
  {
   "cell_type": "code",
   "execution_count": 51,
   "metadata": {},
   "outputs": [
    {
     "name": "stdout",
     "output_type": "stream",
     "text": [
      "Train on 42000 samples, validate on 18000 samples\n",
      "Epoch 1/10\n",
      "42000/42000 [==============================] - 17s 402us/sample - loss: 0.7604 - accuracy: 0.7247 - val_loss: 0.5405 - val_accuracy: 0.8022\n",
      "Epoch 2/10\n",
      "42000/42000 [==============================] - 18s 423us/sample - loss: 0.4908 - accuracy: 0.8222 - val_loss: 0.4468 - val_accuracy: 0.8379\n",
      "Epoch 3/10\n",
      "42000/42000 [==============================] - 18s 423us/sample - loss: 0.4321 - accuracy: 0.8436 - val_loss: 0.4165 - val_accuracy: 0.8504\n",
      "Epoch 4/10\n",
      "42000/42000 [==============================] - 17s 402us/sample - loss: 0.3887 - accuracy: 0.8601 - val_loss: 0.3861 - val_accuracy: 0.8603\n",
      "Epoch 5/10\n",
      "42000/42000 [==============================] - 17s 399us/sample - loss: 0.3628 - accuracy: 0.8662 - val_loss: 0.3744 - val_accuracy: 0.8647\n",
      "Epoch 6/10\n",
      "42000/42000 [==============================] - 18s 440us/sample - loss: 0.3411 - accuracy: 0.8770 - val_loss: 0.3602 - val_accuracy: 0.8718\n",
      "Epoch 7/10\n",
      "42000/42000 [==============================] - 20s 474us/sample - loss: 0.3201 - accuracy: 0.8834 - val_loss: 0.3464 - val_accuracy: 0.8733\n",
      "Epoch 8/10\n",
      "42000/42000 [==============================] - 19s 459us/sample - loss: 0.3053 - accuracy: 0.8889 - val_loss: 0.3479 - val_accuracy: 0.8741\n",
      "Epoch 9/10\n",
      "42000/42000 [==============================] - 27s 636us/sample - loss: 0.2868 - accuracy: 0.8949 - val_loss: 0.3411 - val_accuracy: 0.8757\n",
      "Epoch 10/10\n",
      "42000/42000 [==============================] - 19s 462us/sample - loss: 0.2752 - accuracy: 0.8989 - val_loss: 0.3219 - val_accuracy: 0.8817\n"
     ]
    }
   ],
   "source": [
    "train_model_two = model_two.fit(X_train, y_train,\n",
    "                  batch_size=BATCH_SIZE,\n",
    "                  epochs=N_EPOCHS,\n",
    "                  verbose=1,\n",
    "                  validation_data=(X_val, y_val))"
   ]
  },
  {
   "cell_type": "code",
   "execution_count": 60,
   "metadata": {},
   "outputs": [
    {
     "name": "stdout",
     "output_type": "stream",
     "text": [
      "Test loss: 0.30791886209249497\n",
      "Test accuracy: 0.8895\n"
     ]
    }
   ],
   "source": [
    "score = model_two.evaluate(X_test, y_test, verbose=0)\n",
    "print('Test loss:', score[0])\n",
    "print('Test accuracy:', score[1])"
   ]
  },
  {
   "cell_type": "code",
   "execution_count": 67,
   "metadata": {},
   "outputs": [
    {
     "name": "stdout",
     "output_type": "stream",
     "text": [
      "dict_keys(['loss', 'accuracy', 'val_loss', 'val_accuracy'])\n"
     ]
    }
   ],
   "source": [
    "x = model_two.history.history\n",
    "# https://stackoverflow.com/questions/51731207/python-neural-network-typeerror-history-object-is-not-subscriptable\n",
    "print(x.keys())"
   ]
  },
  {
   "cell_type": "code",
   "execution_count": 68,
   "metadata": {},
   "outputs": [
    {
     "data": {
      "image/png": "[encoded data removed]",
      "text/plain": [
       "<Figure size 432x288 with 1 Axes>"
      ]
     },
     "metadata": {},
     "output_type": "display_data"
    },
    {
     "data": {
      "image/png": "[encoded data removed]",
      "text/plain": [
       "<Figure size 432x288 with 1 Axes>"
      ]
     },
     "metadata": {},
     "output_type": "display_data"
    }
   ],
   "source": [
    "%matplotlib inline\n",
    "\n",
    "import matplotlib.image  as mpimg\n",
    "import matplotlib.pyplot as plt\n",
    "\n",
    "#-----------------------------------------------------------\n",
    "# Retrieve a list of list results on training and test data\n",
    "# sets for each training epoch\n",
    "#-----------------------------------------------------------\n",
    "def plot_accuracy_and_loss(train_model):\n",
    "    hist = train_model.history.history\n",
    "    acc = hist['accuracy']\n",
    "    val_acc = hist['val_accuracy']\n",
    "    loss = hist['loss']\n",
    "    val_loss = hist['val_loss']\n",
    "\n",
    "    epochs = range(len(acc)) # Get number of epochs\n",
    "\n",
    "    #------------------------------------------------\n",
    "    # Plot training and validation accuracy per epoch\n",
    "    #------------------------------------------------\n",
    "    plt.plot(epochs, acc, 'r', \"Training Accuracy\")\n",
    "    plt.plot(epochs, val_acc, 'b', \"Validation Accuracy\")\n",
    "    plt.title('Training and validation accuracy')\n",
    "    plt.figure()\n",
    "\n",
    "    #------------------------------------------------\n",
    "    # Plot training and validation loss per epoch\n",
    "    #------------------------------------------------\n",
    "    plt.plot(epochs, loss, 'r', \"Training Loss\")\n",
    "    plt.plot(epochs, val_loss, 'b', \"Validation Loss\")\n",
    "\n",
    "\n",
    "    plt.title('Training and validation loss')\n",
    "    \n",
    "plot_accuracy_and_loss(model_two)"
   ]
  },
  {
   "cell_type": "code",
   "execution_count": 69,
   "metadata": {},
   "outputs": [
    {
     "data": {
      "image/png": "[encoded data removed]",
      "text/plain": [
       "<Figure size 432x288 with 1 Axes>"
      ]
     },
     "metadata": {},
     "output_type": "display_data"
    },
    {
     "data": {
      "image/png": "[encoded data removed]",
      "text/plain": [
       "<Figure size 432x288 with 1 Axes>"
      ]
     },
     "metadata": {},
     "output_type": "display_data"
    }
   ],
   "source": [
    "plot_accuracy_and_loss(model)"
   ]
  },
  {
   "cell_type": "code",
   "execution_count": null,
   "metadata": {},
   "outputs": [],
   "source": [
    "# looks like underfitting. and i also know that it could be learning faster"
   ]
  },
  {
   "cell_type": "code",
   "execution_count": 70,
   "metadata": {},
   "outputs": [
    {
     "name": "stdout",
     "output_type": "stream",
     "text": [
      "Train on 42000 samples, validate on 18000 samples\n",
      "Epoch 1/10\n",
      "42000/42000 [==============================] - 17s 408us/sample - loss: 0.7722 - accuracy: 0.7209 - val_loss: 0.5392 - val_accuracy: 0.8041\n",
      "Epoch 2/10\n",
      "42000/42000 [==============================] - 17s 393us/sample - loss: 0.5004 - accuracy: 0.8189 - val_loss: 0.4739 - val_accuracy: 0.8309\n",
      "Epoch 3/10\n",
      "42000/42000 [==============================] - 17s 408us/sample - loss: 0.4307 - accuracy: 0.8431 - val_loss: 0.4199 - val_accuracy: 0.8447\n",
      "Epoch 4/10\n",
      "42000/42000 [==============================] - 18s 424us/sample - loss: 0.3891 - accuracy: 0.8589 - val_loss: 0.3897 - val_accuracy: 0.8566\n",
      "Epoch 5/10\n",
      "42000/42000 [==============================] - 17s 414us/sample - loss: 0.3632 - accuracy: 0.8676 - val_loss: 0.3800 - val_accuracy: 0.8609\n",
      "Epoch 6/10\n",
      "42000/42000 [==============================] - 16s 379us/sample - loss: 0.3430 - accuracy: 0.8739 - val_loss: 0.3646 - val_accuracy: 0.8694\n",
      "Epoch 7/10\n",
      "42000/42000 [==============================] - 17s 411us/sample - loss: 0.3212 - accuracy: 0.8826 - val_loss: 0.3450 - val_accuracy: 0.8736\n",
      "Epoch 8/10\n",
      "42000/42000 [==============================] - 18s 424us/sample - loss: 0.3057 - accuracy: 0.8868 - val_loss: 0.3478 - val_accuracy: 0.8730\n",
      "Epoch 9/10\n",
      "42000/42000 [==============================] - 17s 393us/sample - loss: 0.2874 - accuracy: 0.8945 - val_loss: 0.3384 - val_accuracy: 0.8730\n",
      "Epoch 10/10\n",
      "42000/42000 [==============================] - 17s 395us/sample - loss: 0.2720 - accuracy: 0.9005 - val_loss: 0.3118 - val_accuracy: 0.8863\n"
     ]
    }
   ],
   "source": [
    "model_three = tf.keras.models.Sequential([\n",
    "  tf.keras.layers.Conv2D(30, (3,3), activation='relu', input_shape=(28, 28, 1)),\n",
    "  tf.keras.layers.MaxPooling2D(2,2),\n",
    "  tf.keras.layers.Conv2D(60, (3,3), activation='relu'),\n",
    "  tf.keras.layers.MaxPooling2D(2,2), \n",
    "  tf.keras.layers.Conv2D(120, (3,3), activation='relu'), \n",
    "  tf.keras.layers.MaxPooling2D(2,2),\n",
    "  tf.keras.layers.Flatten(), \n",
    "  tf.keras.layers.Dense(150, activation='relu'),\n",
    "  tf.keras.layers.Dense(10, activation='softmax')\n",
    "])\n",
    "model_three.compile(loss=\"categorical_crossentropy\",\n",
    "              optimizer='adam',\n",
    "              metrics=['accuracy'])\n",
    "\n",
    "train_model_three = model_three.fit(X_train, y_train,\n",
    "                  batch_size=BATCH_SIZE,\n",
    "                  epochs=N_EPOCHS,\n",
    "                  verbose=1,\n",
    "                  validation_data=(X_val, y_val))"
   ]
  },
  {
   "cell_type": "code",
   "execution_count": 71,
   "metadata": {},
   "outputs": [
    {
     "name": "stdout",
     "output_type": "stream",
     "text": [
      "Test loss: 0.30791886209249497\n",
      "Test accuracy: 0.8895\n"
     ]
    },
    {
     "data": {
      "image/png": "[encoded data removed]",
      "text/plain": [
       "<Figure size 432x288 with 1 Axes>"
      ]
     },
     "metadata": {},
     "output_type": "display_data"
    },
    {
     "data": {
      "image/png": "[encoded data removed]",
      "text/plain": [
       "<Figure size 432x288 with 1 Axes>"
      ]
     },
     "metadata": {},
     "output_type": "display_data"
    }
   ],
   "source": [
    "score_three = model_three.evaluate(X_test, y_test, verbose=0)\n",
    "print('Test loss:', score[0])\n",
    "print('Test accuracy:', score[1])\n",
    "plot_accuracy_and_loss(model_three)"
   ]
  },
  {
   "cell_type": "code",
   "execution_count": null,
   "metadata": {},
   "outputs": [],
   "source": [
    "# k, good enough."
   ]
  }
 ],
 "metadata": {
  "kernelspec": {
   "display_name": "Python 3",
   "language": "python",
   "name": "python3"
  },
  "language_info": {
   "codemirror_mode": {
    "name": "ipython",
    "version": 3
   },
   "file_extension": ".py",
   "mimetype": "text/x-python",
   "name": "python",
   "nbconvert_exporter": "python",
   "pygments_lexer": "ipython3",
   "version": "3.6.0"
  }
 },
 "nbformat": 4,
 "nbformat_minor": 2
}
